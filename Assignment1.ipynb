{
  "nbformat": 4,
  "nbformat_minor": 0,
  "metadata": {
    "colab": {
      "provenance": [],
      "authorship_tag": "ABX9TyNuP/LK+Yj/mEoU9o4t3dNA",
      "include_colab_link": true
    },
    "kernelspec": {
      "name": "python3",
      "display_name": "Python 3"
    },
    "language_info": {
      "name": "python"
    }
  },
  "cells": [
    {
      "cell_type": "markdown",
      "metadata": {
        "id": "view-in-github",
        "colab_type": "text"
      },
      "source": [
        "<a href=\"https://colab.research.google.com/github/sangeethapk/AI-ML/blob/main/Assignment1.ipynb\" target=\"_parent\"><img src=\"https://colab.research.google.com/assets/colab-badge.svg\" alt=\"Open In Colab\"/></a>"
      ]
    },
    {
      "cell_type": "markdown",
      "source": [
        "## Simple ATM Calculator\n",
        "\n",
        "\n",
        "> Write a program that takes the user's account balance and withdrawal amount. If\n",
        "sufficient balance is available, deduct the amount and display the updated balance.\n",
        "Otherwise, print an error message.\n",
        "Sample Input:\n",
        "Balance\n",
        "=\n",
        "Withdrawal  =  \n",
        "Sample Output:\n",
        "5000\n",
        "1500\n",
        "Transaction successful. Remaining balance: ₹3500\n",
        "\n"
      ],
      "metadata": {
        "id": "AoIV-1bx-sJ4"
      }
    },
    {
      "cell_type": "code",
      "execution_count": 2,
      "metadata": {
        "id": "G_bFJkEA-qZj",
        "colab": {
          "base_uri": "https://localhost:8080/"
        },
        "outputId": "54372994-aa65-402a-de8d-e252d2f2abba"
      },
      "outputs": [
        {
          "output_type": "stream",
          "name": "stdout",
          "text": [
            "Enter current available balance: 1000\n",
            "Enter amount to be withdrawn: 2000\n",
            "Do not have sufficient balance.\n"
          ]
        }
      ],
      "source": [
        "#Get user input , account balance and amount to withdraw\n",
        "\n",
        "balance = float(input(\"Enter current available balance: \"))\n",
        "amount_withdraw=float(input(\"Enter amount to be withdrawn: \"))\n",
        "\n",
        "if(amount_withdraw > balance):\n",
        "  print(\"Do not have sufficient balance.\")\n",
        "else:\n",
        "  print(\"Transaction successful !!!. Remaining balance : \",balance-amount_withdraw)\n",
        ""
      ]
    },
    {
      "cell_type": "markdown",
      "source": [
        "##Electricity Bill Generator\n",
        "Create a bill calculator where the user enters the number of units consumed. The rate is\n",
        "₹5 per unit for the first 100 units, ₹7 for the next 100, and ₹10 for anything above 200\n",
        "units. Calculate and display the total bill.\n",
        "Sample Input:\n",
        "Units consumed  \n",
        "Sample Output:\n",
        "=  \n",
        "275\n",
        "Bill amount = ₹1950 (100×5 + 100×7 + 75×10)"
      ],
      "metadata": {
        "id": "WUij1SqwBe2O"
      }
    },
    {
      "cell_type": "code",
      "source": [
        "# Get units consumed\n",
        "unit_consumed=int(input(\"Enter unit consumed: \"))\n",
        "\n",
        "# calculate bill amount based on range\n",
        "bill_amount=0\n",
        "\n",
        "if unit_consumed<=100:\n",
        "  bill_amount = unit_consumed*5\n",
        "elif unit_consumed<=200:\n",
        "  bill_amount = (100*5) +(unit_consumed-100)*7\n",
        "else:\n",
        "  bill_amount = (100*5) + (100*7) + (unit_consumed-200)*10\n",
        "print(\"Toatal bill amount : \" , bill_amount)\n"
      ],
      "metadata": {
        "colab": {
          "base_uri": "https://localhost:8080/"
        },
        "id": "yfuvc1KKC0s9",
        "outputId": "0a1d9887-32cb-4545-f7f7-c4d152ef4177"
      },
      "execution_count": 3,
      "outputs": [
        {
          "output_type": "stream",
          "name": "stdout",
          "text": [
            "Enter unit consumed: 275\n",
            "Toatal bill amount :  1950\n"
          ]
        }
      ]
    },
    {
      "cell_type": "markdown",
      "source": [
        "## . Temperature Converter\n",
        "Write a Python program to convert a given temperature value between Celsius and\n",
        "Fahrenheit. Accept input as a number and a unit indicator ('C' or 'F').\n",
        "Sample Input:\n",
        "Temp  \n",
        "Unit   \n",
        "=\n",
        "=  \n",
        "Sample Output:\n",
        "\"37\"\n",
        "\"C\"\n",
        "Temperature in Fahrenheit: 98.6°F"
      ],
      "metadata": {
        "id": "LfPA6DcUEXRE"
      }
    },
    {
      "cell_type": "code",
      "source": [
        "#Get temperature\n",
        "import sys\n",
        "\n",
        "temperature=input(\"Enter temperature with unit indicator (37C or 98F) :\")\n",
        "if len(temperature) < 2:\n",
        "    print(\"Error: Too short.\")\n",
        "    sys.exit()\n",
        "#get last character of value\n",
        "unit=temperature[len(temperature)-1]\n",
        "temp_value=temperature[0:len(temperature)-1] #get temp substring\n",
        "try:\n",
        "  if unit.isalpha :\n",
        "    if(unit.lower() =='c'):\n",
        "     print(\"Converted value :\", ((float(temp_value ))* 9/5) + 32,\" F\")\n",
        "    elif unit.lower()=='f':\n",
        "      print(\"Converted value :\", ((float((temp_value ))- 32) * 5/9),\" C\")\n",
        "    else :\n",
        "       print(\"invalid data!!!\")\n",
        "\n",
        "  else:\n",
        "   print(\"Not valide input ....\")\n",
        "except:\n",
        "  print(\"Error data\")\n",
        "\n"
      ],
      "metadata": {
        "colab": {
          "base_uri": "https://localhost:8080/"
        },
        "id": "nDYKgVwuEtbI",
        "outputId": "a7286c29-8720-4089-d443-225904432189"
      },
      "execution_count": 32,
      "outputs": [
        {
          "output_type": "stream",
          "name": "stdout",
          "text": [
            "Enter temperature with unit indicator (37C or 98F) :98.6f\n",
            "Converted value : 37.0  C\n"
          ]
        }
      ]
    },
    {
      "cell_type": "markdown",
      "source": [
        "## Mobile Recharge Validity\n",
        "Write a program that takes the recharge date and today’s date as input and checks\n",
        "whether the 28-day recharge plan is still valid or expired.\n",
        "Sample Input:\n",
        "Recharge\n",
        "Today :  \n",
        "date: 2025-07-01\n",
        "2025-07-30\n",
        "Sample Output:\n",
        "Plan expired. Recharge again."
      ],
      "metadata": {
        "id": "mEOZKh4186wx"
      }
    },
    {
      "cell_type": "code",
      "source": [
        "\n",
        "from datetime import datetime, date\n",
        "import sys\n",
        " # Get today's date\n",
        "today = date.today()\n",
        "# Get date input from user\n",
        "date_input = input(\"Enter a date (YYYY-MM-DD): \")\n",
        "try:\n",
        "    # Convert input string to date object\n",
        "    given_date = datetime.strptime(date_input, \"%Y-%m-%d\").date()\n",
        "    difference= today - given_date\n",
        "\n",
        "    #recharge date should not be after current date\n",
        "    if(difference.days) < 1 :\n",
        "      print(\"Invalid date....\")\n",
        "    # Compare dates\n",
        "    elif difference.days < 28:\n",
        "        print(\"You have \",difference.days,\"days validity.\")\n",
        "    else:\n",
        "        print(\"Expired ! Recharge again.\")\n",
        "\n",
        "except ValueError:\n",
        "    print(\"Invalid date format! Please use YYYY-MM-DD.\")\n"
      ],
      "metadata": {
        "colab": {
          "base_uri": "https://localhost:8080/"
        },
        "id": "55_Ll0n89pQO",
        "outputId": "ab5306ba-7d76-4c93-bf01-251e14a2dec7"
      },
      "execution_count": 49,
      "outputs": [
        {
          "output_type": "stream",
          "name": "stdout",
          "text": [
            "Enter a date (YYYY-MM-DD): 2025-07-01\n",
            "Expired ! Recharge again.\n"
          ]
        }
      ]
    },
    {
      "cell_type": "code",
      "source": [
        "##Bus reservation"
      ],
      "metadata": {
        "id": "BkFsPCscI1VE"
      },
      "execution_count": null,
      "outputs": []
    },
    {
      "cell_type": "code",
      "source": [
        "# Initial bookings\n",
        "booked = ['Amit', 'Sara', 'John']\n",
        "\n",
        "cancel = input(\"Enter name for cancellation:  \")\n",
        "new_passenger = input(\"Enter new name for reservation : \")\n",
        "\n",
        "#  Handle cancellation\n",
        "if cancel in booked:\n",
        "    index = booked.index(cancel)\n",
        "    booked[index] = 'Available'\n",
        "else:\n",
        "    print(f\"{cancel} not found in bookings.\")\n",
        "\n",
        "#  Insert new passenger into first available slot\n",
        "if 'Available' in booked:\n",
        "    available_index = booked.index('Available')\n",
        "    booked[available_index] = new_passenger\n",
        "else:\n",
        "    print(\"Bus is full.\")\n",
        "\n",
        "# Final output\n",
        "print(\"Updated list: \",booked)\n"
      ],
      "metadata": {
        "colab": {
          "base_uri": "https://localhost:8080/"
        },
        "id": "KQQ08XxhI5u8",
        "outputId": "3269b749-253e-412d-f39c-4ff9a5bebd17"
      },
      "execution_count": 54,
      "outputs": [
        {
          "output_type": "stream",
          "name": "stdout",
          "text": [
            "Enter name for cancellation:  Sara\n",
            "Enter new name for reservation : Neha\n",
            "Updated list:  ['Amit', 'Neha', 'John']\n"
          ]
        }
      ]
    },
    {
      "cell_type": "markdown",
      "source": [
        " ## Sum of even numbers\n",
        " Write a program that takes a number as input and prints the sum of all even numbers\n",
        "from 1 to that number.\n",
        "Sample Input:\n",
        "Number: 10\n",
        "Sample Output:\n",
        "Sum of even numbers: 30\n",
        "(2 + 4 + 6 + 8 + 10)\n",
        "\n"
      ],
      "metadata": {
        "id": "JeZhAax-Rs6i"
      }
    },
    {
      "cell_type": "code",
      "source": [
        "# get input from user\n",
        "number = int(input(\"Enter any number : \"))\n",
        "sum=0\n",
        "for i in range(1,number+1):\n",
        "  if(i%2==0):\n",
        "    sum+=i\n",
        "print (\"Sum of even numbers : \",sum)\n",
        "\n"
      ],
      "metadata": {
        "colab": {
          "base_uri": "https://localhost:8080/"
        },
        "id": "tKqoSn2zmZk8",
        "outputId": "5f9f9cb8-f096-47dc-b0ae-a96be6b0e250"
      },
      "execution_count": 3,
      "outputs": [
        {
          "output_type": "stream",
          "name": "stdout",
          "text": [
            "Enter any number : 11\n",
            "Sum of even numbers :  30\n"
          ]
        }
      ]
    }
  ]
}